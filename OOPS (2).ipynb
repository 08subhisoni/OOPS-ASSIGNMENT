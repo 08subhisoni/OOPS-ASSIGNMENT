{
  "cells": [
    {
      "cell_type": "markdown",
      "metadata": {
        "id": "c_Lb8qXLqGYp"
      },
      "source": [
        "1.What is Object-Oriented Programming (OOP)?\n",
        "- object oriented programming is a programming paradigm based on the concept of \"object\",which contain data in the form of fields (also called attributes or properties) and code in the form of methods (functions associated with the object).OOP promotes modularity,reuseability,and better organization of code.\n",
        "\n",
        "2. What is a class in OOP?\n",
        "-  A class in object-oriented programming (OOP) is a blueprint or template for creating objects.if defines the properties (attributes) and behaviours (methods) that the object created from it will have.\n",
        "\n",
        "3. What is an object in OOP?\n",
        "-  An object in object-oriented programming(OOP) is an instance of a class. it represents a specific entity that has attributes(data) and methods (functions) defined y the class.\n",
        "\n",
        "4. What is the difference between abstraction and encapsulation?\n",
        "-  abstraction and encapsulation are two fundamental concepts in object-oriented programming (OOP) ,often confused but serving distinct purposes.\n",
        "- abstraction- hiding complex implementation details and showing only the essential features.\n",
        "- pupose-focuses on what an object does.\n",
        "- implementation-achieved using abstract classes and interfaces.\n",
        "- visibillity- exposes only necessary functiobalities to the user.\n",
        "- example-a car's drive() function abstracts how the engine works.\n",
        "- encapsulation- hiding internal data and restricting direct access through methods.\n",
        "- purpose- focuses on how the onject's data is protected.\n",
        "- implementation-achieved using access modifiers(public,private).\n",
        "- visibility- keeps data safe and secure from external interference.\n",
        "- example- the engine's internal parts are hidden from users,accessible only through controls.\n",
        "\n",
        "5.What are dunder methods in Python?\n",
        "- Dunder methods(short for DOUBLE UNDERSCORE methods),also known as magic methods or special methods,are built-in methods in python that have double underscore before and after their names,like__init__,__str__and__len__.\n",
        "  these methods allow objects to have custom behaviors when used with python's built-in operations,string represntations,comprisons.\n",
        "\n",
        "6.Explain the concept of inheritance in OOP?\n",
        "- inheritance is a core concept in object-oriented programming(OOP) that allows a child class (also known as a subclass) to inherit attributes and methods from a parent class (or superclass).it promotes code reusability and hierarchical relationship between classes.\n",
        "\n",
        "7.What is polymorphism in OOP?\n",
        "-  polymorphism (from grrek:poly = many,morphy=forms) is a core concept in object-oriented programming (OOP) that allows objects to take on multiple forms.it enables the same method name or operation to behave differently based on the object or context.\n",
        "\n",
        "8.How is encapsulation achieved in Python?\n",
        "-  Encapsulation is principle in onject-oriented programming (OOP) that involves restrcting access to the internal data of an object and controlling it through well-defined methods(grtters and serrers).\n",
        "1. public member-accessible from anywhere.\n",
        "2. protected members-accessible within the class and subclasses (denoted by a single underscore__).\n",
        "3. private members- accessible only within the class (denoted by double underscores__).\n",
        "\n",
        "9.What is a constructor in Python?\n",
        "-  A constructor in python is a special method used to initialize the attributes of an object when it is created.the constructor is defined by the __init__() method.\n",
        "\n",
        "10.What are class and static methods in Python?\n",
        "-  class method(@classmethod) operates on the class itself rather than the instance.it has access to class-level data and can modify the class state.\n",
        "-  static method doesn't access or modify class or instance data.it's used for utility functions related to the class but indeoendent of class or instance variables.\n",
        "\n",
        "11.What is method overloading in Python?\n",
        "-  Method overloading allows a class to define multiple methods with the same name but different parameter lists.it provides flexibility to call a method in different ways based on arguments passed.\n",
        "-  does python support method overloading?\n",
        "  technically,python does not support method overloading natively like some other languages(e.g.,java) however,it can be simulated using default aruments or variable arguments (*args*).\n",
        "\n",
        "\n",
        "12.What is method overriding in OOP?\n",
        "-  method overriding is a feature in object-oriented programming(OOP) that allows a child class to provide a specific implemenatation of a method already defined in its parent class should have the same anme,return type ,and parameters as in the parent class.\n",
        "  \n",
        "\n",
        "13.What is a property decorator in Python?\n",
        "-  The @preperty decorator in python is used to define getter,setter,and deleter methods for class attributes,providing a pythonic way to manage attributes access and modification.it allows you to access methods like attributes without explicitly calling them.\n",
        "  \n",
        "\n",
        "14.Why is polymorphism important in OOP?\n",
        "-  polymorphism is a fundamental concept in object-oriented programming(OOP)\n",
        "that allows onjects to be treated as instances of their parent class,even when they belong to diiferent child classes.it enables a single interface to represent different data types or methods.\n",
        "-  code reuseability-write more general and useable code.\n",
        "-  flexibility and extensibility- easily extend or modify code by introducing new classes without changing existing logic.\n",
        "-  improved maintainability- reduces code duplication by handling similar operations through a single method.\n",
        "\n",
        "\n",
        "15.What is an abstract class in Python?\n",
        "-  An abstract class in python is a bleprint for other classes. it contains one or more abstract methods,which are methods declared but not implementated.abstract classes cannot bt instantiated directly and are used to enforce a consistent interface in subclasses.\n",
        "\n",
        "16.What are the advantages of OOP?\n",
        "-  inheritance enables the creation of new classes from existing ones,reducing code duplication.\n",
        "-  OOP encourage cleaner and well-structued code,making it easier to maintain and debug.\n",
        "-  through method overriding and polymorphism,OOP allows the same interface to be used for different types of data.\n",
        "\n",
        "17.What is the difference between a class variable and an instance variable?\n",
        "-  class variable-shared by all instances of a class.\n",
        "-  declaration-defined inside the class,outside methods.\n",
        "-  scope- shared across all objects.\n",
        "-  memory usage-shared memory.\n",
        "-  modifiaction-changes affect all instances.\n",
        "-  instance variables-unique to each instance of a class.\n",
        "-  declaration-defined inside methods using itself.\n",
        "-  scope-specific to the object.\n",
        "-  memory usage- separate memory for each object.\n",
        "-  modification-changes affect only that instance.\n",
        "\n",
        "18.What is multiple inheritance in Python?\n",
        "-  multiple inheritance is a feature of object-oriented programming(OOP) in which a class can inherit attributes and methods from more than one parent class.\n",
        "\n",
        "19.Explain the purpose of ‘’__str__’ and ‘__repr__’ ‘ methods in Python?\n",
        "1.  __str_-()- provides a readable and user friendly represenation of the object called when using str()or print().\n",
        "2.  __repr__()-provides an unambiguous reprentation,often for debugging.called by repr() and in interactive mode (>>>).\n",
        "-  should ideally return a string that can recreate the object when passed to eval().\n",
        "20.What is the significance of the ‘super()’ function in Python?\n",
        "  - in python,super() function is used to call methods from a parent (or superclass) in a child (or subclass).it is commonly used in inheritance to avoid explicity referring to the parent class and to support multiple inheritance.\n",
        "  - SIGNIFICANCE of super() in python:\n",
        "  1. Access parent class methods - it allows a subclass to call methods from its parent class without explicitly naming it.\n",
        "  2. Supports multiple inheritance - in python,super() ensures that methods are called in the correct order when multiple classes are inherited.\n",
        "  3. Avoid hardcoding parent class name - using super() makes the code more maintainable because the parent class name does not need to be explicity mentioned.\n",
        "  4. works with __init__method.\n",
        "  5. ensures proper method resolution order (MRO).\n",
        "\n",
        "21. What is the significance of the __del__ method in Python?\n",
        " - The del method in python is known as a destrutor. it is automatically invoked when an object is about to be destroyed that is , when there are no one more references to the object.\n",
        " - SIGNIFICANCE-\n",
        " - resoures cleanup.\n",
        " - garbage collection.\n",
        " - caution with circular reference.\n",
        " - error handling.\n",
        "\n",
        "22.What is the difference between @staticmethod and @classmethod in Python?\n",
        "  - @staticmethod - A static method does not take any reference to the class(cls) or instance (self).\n",
        "  - it behaves like a regular function but belongs to the class's namespace.\n",
        "  - it is used when a method does not require access to instance variables or class variables.\n",
        "  - @classmethod - A class method takes a reference to the class (cls) as its first parameter.\n",
        "  - it can modify class variables but cannot access instance variables directly.\n",
        "  - useful when you need to manipulate class-level data.\n",
        "\n",
        "23.How does polymorphism work in Python with inheritance?\n",
        "  - polymorphism allows objects of different classes to be treated as objects of a common superclass. it enables method overriding and dynamic method resolution.\n",
        "  - types of polymorphism in python with interitance :-\n",
        "    1. runtime polymorphism\n",
        "    2. not native,but achievable.\n",
        "    3. dunder methods.\n",
        "\n",
        "24.What is method chaining in Python OOP?\n",
        " - Method chaining is a technique in object-oriented programme(OOP) where multiple methods are called on the same object sequentially in a single statement. this is achieved by having each method return self(the instance of the class), allowing further method calls on the returned object.\n",
        "\n",
        "25.What is the purpose of the __call__ method in Python?\n",
        " - The __call__method in python allows an instance of a class to be called as if it were a function.when you  define __call__in your class,you enable its objects to be \"callble\", which means you can use the instance name followed by parantheses and any arguments,similar to how you'd call a function.\n",
        " 1. callable instances.\n",
        " 2. flexibility in design.\n",
        " 3. practical use cases:\n",
        " - encapsulation of behavior.\n",
        " - decorators.\n",
        " - callbacks and strategies.\n",
        "\n",
        "\n",
        "\n",
        "    \n",
        "\n",
        "\n",
        "\n",
        "\n",
        "\n",
        "\n",
        "\n",
        "\n",
        "\n",
        "\n",
        "\n",
        "\n",
        "\n"
      ]
    },
    {
      "cell_type": "markdown",
      "metadata": {
        "id": "X4K0_xcrr430"
      },
      "source": [
        "1. Create a parent class Animal with a method speak() that prints a generic message. Create a child class Dog\n",
        "that overrides the speak() method to print \"Bark!\"?"
      ]
    },
    {
      "cell_type": "code",
      "execution_count": null,
      "metadata": {
        "colab": {
          "base_uri": "https://localhost:8080/"
        },
        "id": "3UzP175Xr-Ix",
        "outputId": "fecc0e6f-64c0-46b6-849a-a87750d05ce8"
      },
      "outputs": [
        {
          "name": "stdout",
          "output_type": "stream",
          "text": [
            "this is a generic animal sound.\n"
          ]
        }
      ],
      "source": [
        "class Animal:\n",
        "    def speak(self):\n",
        "        print(\"this is a generic animal sound.\")\n",
        "\n",
        "class Dog(Animal):\n",
        "    def speak(self):\n",
        "        print(\"Bark!\")\n",
        "\n",
        "if __name__ == \"__main__\":\n",
        "    animal = Animal()\n",
        "    animal.speak()"
      ]
    },
    {
      "cell_type": "markdown",
      "metadata": {
        "id": "SmWkvmPXtfhV"
      },
      "source": [
        "2. Write a program to create an abstract class Shape with a method area(). Derive classes Circle and Rectangle\n",
        "from it and implement the area() method in both.\n",
        "\n",
        "\n"
      ]
    },
    {
      "cell_type": "code",
      "source": [
        "from abc import ABC, abstractmethod\n",
        "import math\n",
        "\n",
        "# Abstract class Shape\n",
        "class Shape(ABC):\n",
        "    @abstractmethod\n",
        "    def area(self):\n",
        "        pass\n",
        "\n",
        "class Circle(Shape):\n",
        "    def __init__(self, radius):\n",
        "        self.radius = radius\n",
        "\n",
        "    def area(self):\n",
        "        return math.pi * self.radius ** 2\n",
        "\n",
        "class Rectangle(Shape):\n",
        "    def __init__(self, length, width):\n",
        "        self.length = length\n",
        "        self.width = width\n",
        "\n",
        "    def area(self):\n",
        "        return self.length * self.width\n",
        "\n",
        "circle = Circle(5)\n",
        "rectangle = Rectangle(4, 6)\n",
        "\n",
        "print(\"Area of Circle:\", circle.area())\n"
      ],
      "metadata": {
        "colab": {
          "base_uri": "https://localhost:8080/"
        },
        "id": "pPs52xHfefYb",
        "outputId": "75547d37-01cf-435d-da6e-f0d4dd5bac03"
      },
      "execution_count": 1,
      "outputs": [
        {
          "output_type": "stream",
          "name": "stdout",
          "text": [
            "Area of Circle: 78.53981633974483\n"
          ]
        }
      ]
    },
    {
      "cell_type": "markdown",
      "metadata": {
        "id": "uWSEqgimzvgg"
      },
      "source": [
        "3. Implement a multi-level inheritance scenario where a class Vehicle has an attribute type. Derive a class Car\n",
        "and further derive a class ElectricCar that adds a battery attribute?"
      ]
    },
    {
      "cell_type": "code",
      "execution_count": null,
      "metadata": {
        "colab": {
          "base_uri": "https://localhost:8080/"
        },
        "id": "oc0YAhhU207a",
        "outputId": "e35eb296-6520-44c7-8f85-adc587426d92"
      },
      "outputs": [
        {
          "name": "stdout",
          "output_type": "stream",
          "text": [
            "inside the car class\n"
          ]
        }
      ],
      "source": [
        "class vehicle:\n",
        "    def vehicle_info(self):\n",
        "       print(\"inside the vehicle class\")\n",
        "\n",
        "class car (vehicle):\n",
        "    def car_info(self):\n",
        "        print(\"inside the car class\")\n",
        "\n",
        "class electric_car(car):\n",
        "    def electric_car_info(self):\n",
        "        print(\"inside the electric car class\")\n",
        "\n",
        "class sportscar (car,vehicle):\n",
        "    def sportscar_info(self):\n",
        "        print(\"inside the sports car class\")\n",
        "\n",
        "obj1 = sportscar()\n",
        "obj1.car_info()\n",
        "\n"
      ]
    },
    {
      "cell_type": "markdown",
      "metadata": {
        "id": "v-R1f_hM4NWU"
      },
      "source": [
        "4. Implement a multi-level inheritance scenario where a class Vehicle has an attribute type. Derive a class Car\n",
        "and further derive a class ElectricCar that adds a battery attribute."
      ]
    },
    {
      "cell_type": "code",
      "execution_count": null,
      "metadata": {
        "colab": {
          "base_uri": "https://localhost:8080/"
        },
        "id": "TzGTLH5s4eAC",
        "outputId": "b0060a4c-b38f-4d22-e610-5dc9aa9e0f75"
      },
      "outputs": [
        {
          "name": "stdout",
          "output_type": "stream",
          "text": [
            "inside the car class\n"
          ]
        }
      ],
      "source": [
        "class vehicle:\n",
        "    def vehicle_info(self):\n",
        "       print(\"inside the vehicle class\")\n",
        "\n",
        "class car (vehicle):\n",
        "    def car_info(self):\n",
        "        print(\"inside the car class\")\n",
        "\n",
        "class electric_car(car):\n",
        "    def electric_car_info(self):\n",
        "        print(\"inside the electric car class\")\n",
        "\n",
        "class sportscar (car,vehicle):\n",
        "    def sportscar_info(self):\n",
        "        print(\"inside the sports car class\")\n",
        "\n",
        "obj1 = sportscar()\n",
        "obj1.car_info()"
      ]
    },
    {
      "cell_type": "markdown",
      "metadata": {
        "id": "0tTmQojW4mo8"
      },
      "source": [
        "5. Write a program to demonstrate encapsulation by creating a class BankAccount with private attributes\n",
        "balance and methods to deposit, withdraw, and check balance."
      ]
    },
    {
      "cell_type": "code",
      "execution_count": null,
      "metadata": {
        "colab": {
          "base_uri": "https://localhost:8080/"
        },
        "id": "Dfe_R6nZ4p_m",
        "outputId": "96e99a5e-51a5-498d-d7f1-b691ec15683c"
      },
      "outputs": [
        {
          "data": {
            "text/plain": [
              "1000"
            ]
          },
          "execution_count": 37,
          "metadata": {},
          "output_type": "execute_result"
        }
      ],
      "source": [
        "class bank:\n",
        "    def __init__(self,balance):\n",
        "        self.__balance = balance\n",
        "    def deposit (self, amount):\n",
        "        self.__balance = self.__balance + amount\n",
        "    def withdraw (self,amount):\n",
        "        if self.__balance >= amount:\n",
        "            self.__balance = self.__balance - amount\n",
        "            return True\n",
        "        else:\n",
        "            return False\n",
        "    def get_balance(self):\n",
        "        return self.__balance\n",
        "\n",
        "account1 = bank(1000)\n",
        "account1.get_balance()\n",
        "\n",
        "\n"
      ]
    },
    {
      "cell_type": "code",
      "execution_count": null,
      "metadata": {
        "colab": {
          "base_uri": "https://localhost:8080/"
        },
        "id": "te8yYByq7MpD",
        "outputId": "e928b577-eba0-4cf7-bed2-bb757d17924f"
      },
      "outputs": [
        {
          "data": {
            "text/plain": [
              "1900"
            ]
          },
          "execution_count": 39,
          "metadata": {},
          "output_type": "execute_result"
        }
      ],
      "source": [
        "account1.deposit(500)\n",
        "account1.get_balance()"
      ]
    },
    {
      "cell_type": "code",
      "execution_count": null,
      "metadata": {
        "colab": {
          "base_uri": "https://localhost:8080/"
        },
        "id": "6EwTkAaI7VVB",
        "outputId": "6343d42f-a8e4-417a-a954-a9aafc7c98fb"
      },
      "outputs": [
        {
          "data": {
            "text/plain": [
              "True"
            ]
          },
          "execution_count": 40,
          "metadata": {},
          "output_type": "execute_result"
        }
      ],
      "source": [
        "account1.withdraw(100)"
      ]
    },
    {
      "cell_type": "code",
      "execution_count": null,
      "metadata": {
        "colab": {
          "base_uri": "https://localhost:8080/"
        },
        "id": "7GdLIR9_7ayn",
        "outputId": "3fd15d2c-ca35-4ce5-91c6-80d209884a1a"
      },
      "outputs": [
        {
          "data": {
            "text/plain": [
              "1800"
            ]
          },
          "execution_count": 41,
          "metadata": {},
          "output_type": "execute_result"
        }
      ],
      "source": [
        "account1.get_balance()"
      ]
    },
    {
      "cell_type": "markdown",
      "metadata": {
        "id": "BjBYvihG7p4y"
      },
      "source": [
        "6. Demonstrate runtime polymorphism using a method play() in a base class Instrument. Derive classes Guitar\n",
        "and Piano that implement their own version of play()."
      ]
    },
    {
      "cell_type": "code",
      "execution_count": null,
      "metadata": {
        "colab": {
          "base_uri": "https://localhost:8080/"
        },
        "id": "4klZG-co7vMm",
        "outputId": "7e12ce15-153e-4d3c-9f26-0db76b1b4523"
      },
      "outputs": [
        {
          "name": "stdout",
          "output_type": "stream",
          "text": [
            "strumming the guitar!\n",
            "playing a piano keys!\n",
            "this instrument makes a generic sound.\n",
            "strumming the guitar!\n",
            "playing a piano keys!\n",
            "this instrument makes a generic sound.\n"
          ]
        }
      ],
      "source": [
        "class instrument:\n",
        "    def play(self):\n",
        "        print(\"this instrument makes a generic sound.\")\n",
        "\n",
        "class guitar(instrument):\n",
        "    def play(self):\n",
        "        print(\"strumming the guitar!\")\n",
        "\n",
        "class piano(instrument):\n",
        "    def play(self):\n",
        "        print(\"playing a piano keys!\")\n",
        "\n",
        "def perform(instrument):\n",
        "    instrument.play()\n",
        "\n",
        "if __name__ == \"__main__\":\n",
        "    def play(self):\n",
        "        print(\"this instruments makes a generic sound\")\n",
        "\n",
        "    instruments = [guitar(), piano(), instrument()]\n",
        "\n",
        "    for instrument in instruments:\n",
        "        perform(instrument)"
      ]
    },
    {
      "cell_type": "markdown",
      "metadata": {
        "id": "WejggsGx_2ok"
      },
      "source": [
        "7. Create a class MathOperations with a class method add_numbers() to add two numbers and a static\n",
        "method subtract_numbers() to subtract two numbers."
      ]
    },
    {
      "cell_type": "code",
      "execution_count": null,
      "metadata": {
        "colab": {
          "base_uri": "https://localhost:8080/"
        },
        "id": "QQ8RRReF_8F1",
        "outputId": "f294967a-074d-4f54-fefd-ada52851d17b"
      },
      "outputs": [
        {
          "name": "stdout",
          "output_type": "stream",
          "text": [
            "8\n",
            "2\n"
          ]
        }
      ],
      "source": [
        "class mathoperations:\n",
        "    @classmethod\n",
        "    def add_numbers(cls, a, b,):\n",
        "        return a + b\n",
        "\n",
        "    @staticmethod\n",
        "    def subtract_numbers(a, b):\n",
        "        return a - b\n",
        "\n",
        "print(mathoperations.add_numbers(5,3))\n",
        "print(mathoperations.subtract_numbers(5 ,3))"
      ]
    },
    {
      "cell_type": "markdown",
      "metadata": {
        "id": "UFpcwGV9BWJb"
      },
      "source": [
        "8. Implement a class Person with a class method to count the total number of persons created."
      ]
    },
    {
      "cell_type": "code",
      "execution_count": null,
      "metadata": {
        "colab": {
          "base_uri": "https://localhost:8080/"
        },
        "id": "QLYMI4cpBXrh",
        "outputId": "5b06e503-76b7-4859-9e1b-98bbca522720"
      },
      "outputs": [
        {
          "name": "stdout",
          "output_type": "stream",
          "text": [
            "3\n"
          ]
        }
      ],
      "source": [
        "class person:\n",
        "    count = 0\n",
        "\n",
        "    def __init__(self,name):\n",
        "        self.name = name\n",
        "        person.count += 1\n",
        "\n",
        "    @classmethod\n",
        "    def get_person_count(cls):\n",
        "        return cls.count\n",
        "\n",
        "p1 = person(\"alice\")\n",
        "p2 = person(\"bob\")\n",
        "p3 = person(\"charlie\")\n",
        "print(person.get_person_count())\n",
        "\n"
      ]
    },
    {
      "cell_type": "markdown",
      "metadata": {
        "id": "7ebAc72GEcUW"
      },
      "source": [
        "9. Write a class Fraction with attributes numerator and denominator. Override the str method to display the\n",
        "fraction as \"numerator/denominator\"."
      ]
    },
    {
      "cell_type": "code",
      "execution_count": null,
      "metadata": {
        "colab": {
          "base_uri": "https://localhost:8080/"
        },
        "id": "FOAdRrhBEkfZ",
        "outputId": "a83cf5c7-ab88-4f0a-a991-5042ef3e480a"
      },
      "outputs": [
        {
          "name": "stdout",
          "output_type": "stream",
          "text": [
            "3/4\n"
          ]
        }
      ],
      "source": [
        "class fraction:\n",
        "    def __init__(self, numerator, denominator):\n",
        "        if denominator == 0:\n",
        "            raise valueerror(\"denominator cannot be zero.\")\n",
        "\n",
        "        self.numerator = numerator\n",
        "        self.denominator = denominator\n",
        "\n",
        "    def __str__(self):\n",
        "        return f\"{self.numerator}/{self.denominator}\"\n",
        "f = fraction(3,4)\n",
        "print(f)"
      ]
    },
    {
      "cell_type": "markdown",
      "metadata": {
        "id": "2U6Q3HBKGbc4"
      },
      "source": [
        "10. Demonstrate operator overloading by creating a class Vector and overriding the add method to add two\n",
        "vectors."
      ]
    },
    {
      "cell_type": "code",
      "execution_count": null,
      "metadata": {
        "colab": {
          "base_uri": "https://localhost:8080/"
        },
        "id": "WaqXVLxGGfj0",
        "outputId": "f740024b-413e-4040-a3d1-94454835aa0b"
      },
      "outputs": [
        {
          "name": "stdout",
          "output_type": "stream",
          "text": [
            "(6,8)\n"
          ]
        }
      ],
      "source": [
        "class vector:\n",
        "    def __init__(self, x, y):\n",
        "        self.x = x\n",
        "        self.y = y\n",
        "\n",
        "    def __add__(self, other):\n",
        "        if not isinstance(other,vector):\n",
        "\n",
        "            raise typeerror(\"oper and must be an instance of vector\")\n",
        "        return vector(self.x + other.x, self.y + other.y)\n",
        "\n",
        "    def __str__(self):\n",
        "        return f\"({self.x},{self.y})\"\n",
        "\n",
        "v1 = vector(2, 3)\n",
        "v2 = vector(4, 5)\n",
        "v3 = v1 + v2\n",
        "\n",
        "print(v3)\n"
      ]
    },
    {
      "cell_type": "markdown",
      "metadata": {
        "id": "MkOacxy5IKXj"
      },
      "source": [
        "11. Create a class Person with attributes name and age. Add a method greet() that prints \"Hello, my name is\n",
        "{name} and I am {age} years old."
      ]
    },
    {
      "cell_type": "code",
      "execution_count": null,
      "metadata": {
        "colab": {
          "base_uri": "https://localhost:8080/"
        },
        "id": "D-m-2IBaIQQE",
        "outputId": "45d089c9-ff7b-4e01-95e0-6f4b2a9ef4d2"
      },
      "outputs": [
        {
          "name": "stdout",
          "output_type": "stream",
          "text": [
            "hello, my name is alice and i am 25 years old.\n"
          ]
        }
      ],
      "source": [
        "class person:\n",
        "    def __init__(self, name, age):\n",
        "        self.name = name\n",
        "        self.age = age\n",
        "\n",
        "    def greet(self):\n",
        "        print(f\"hello, my name is {self.name} and i am {self.age} years old.\")\n",
        "\n",
        "p = person(\"alice\",25)\n",
        "p.greet()"
      ]
    },
    {
      "cell_type": "markdown",
      "metadata": {
        "id": "g8spHAtgJcOM"
      },
      "source": [
        "12. Implement a class Student with attributes name and grades. Create a method average_grade() to compute\n",
        "the average of the grades.\n"
      ]
    },
    {
      "cell_type": "code",
      "source": [
        "class Student:\n",
        "    def __init__(self, name, grades):\n",
        "        self.name = name  # Name of the student\n",
        "        self.grades = grades  # List of grades\n",
        "\n",
        "    def average_grade(self):\n",
        "        if len(self.grades) == 0:  # Check if grades list is not empty\n",
        "            return 0\n",
        "        return sum(self.grades) / len(self.grades)  # Calculate average grade\n",
        "\n",
        "# Example usage\n",
        "student1 = Student(\"Alice\", [85, 90, 88, 92, 87])\n",
        "student2 = Student(\"Bob\", [78, 82, 79, 88])\n",
        "\n",
        "print(f\"{student1.name}'s Average Grade: {student1.average_grade()}\")  # Output: Alice's Average Grade: 88.4\n",
        "print(f\"{student2.name}'s Average Grade: {student2.average_grade()}\")  # Output: Bob's Average Grade: 81.75\n"
      ],
      "metadata": {
        "colab": {
          "base_uri": "https://localhost:8080/"
        },
        "id": "6YqZo1SSe9mF",
        "outputId": "198f850b-a45a-4c09-fe15-c37d18ef3b42"
      },
      "execution_count": 2,
      "outputs": [
        {
          "output_type": "stream",
          "name": "stdout",
          "text": [
            "Alice's Average Grade: 88.4\n",
            "Bob's Average Grade: 81.75\n"
          ]
        }
      ]
    },
    {
      "cell_type": "markdown",
      "metadata": {
        "id": "jwp5gXsdMbvD"
      },
      "source": [
        "13. Create a class Rectangle with methods set_dimensions() to set the dimensions and area() to calculate the\n",
        "area."
      ]
    },
    {
      "cell_type": "code",
      "execution_count": null,
      "metadata": {
        "colab": {
          "base_uri": "https://localhost:8080/"
        },
        "id": "aV8m_bSfMg6g",
        "outputId": "a2ddbfd2-722e-4d81-a9f3-d41043e27a86"
      },
      "outputs": [
        {
          "name": "stdout",
          "output_type": "stream",
          "text": [
            "area of rectangle: 50\n"
          ]
        }
      ],
      "source": [
        "class rectangle:\n",
        "    def __init__(self,length=0,width=0):\n",
        "        self.length = length\n",
        "        self.width = width\n",
        "\n",
        "    def set_dimensions(self, length, width):\n",
        "         self.length = length\n",
        "         self.width = width\n",
        "\n",
        "    def area(self):\n",
        "        return self.length * self.width\n",
        "\n",
        "rect = rectangle()\n",
        "rect.set_dimensions(5, 10)\n",
        "print(f\"area of rectangle: {rect.area()}\")\n",
        "\n"
      ]
    },
    {
      "cell_type": "markdown",
      "metadata": {
        "id": "CfeJx_4AOMMT"
      },
      "source": [
        "14. Create a class Employee with a method calculate_salary() that computes the salary based on hours worked\n",
        "and hourly rate. Create a derived class Manager that adds a bonus to the salary."
      ]
    },
    {
      "cell_type": "code",
      "execution_count": null,
      "metadata": {
        "colab": {
          "base_uri": "https://localhost:8080/"
        },
        "id": "-jxyTHsNOP9c",
        "outputId": "d3b6b9f7-1753-4af9-f0df-a4dbf390826f"
      },
      "outputs": [
        {
          "name": "stdout",
          "output_type": "stream",
          "text": [
            "800\n",
            "None\n"
          ]
        }
      ],
      "source": [
        "class employee:\n",
        "    def __init__(self, name, hours_worked, hourly_rate):\n",
        "        self.name = name\n",
        "        self.hours_worked = hours_worked\n",
        "        self.hourly_rate = hourly_rate\n",
        "\n",
        "    def calculate_salary(self):\n",
        "        return self.hours_worked * self.hourly_rate\n",
        "\n",
        "class manager(employee):\n",
        "    def __init__(self, name, hours_worked, hourly_rate, bonus):\n",
        "        super().__init__(name,hours_worked, hourly_rate)\n",
        "        self.bonus = bonus\n",
        "\n",
        "    def calculate_salary(self):\n",
        "        return\n",
        "\n",
        "\n",
        "emp = employee(\"john\", 40, 20)\n",
        "mgr = manager(\"alice\", 40, 20,500)\n",
        "\n",
        "print(emp.calculate_salary())\n",
        "print(mgr.calculate_salary())\n"
      ]
    },
    {
      "cell_type": "markdown",
      "metadata": {
        "id": "UwBmzpznU1AR"
      },
      "source": [
        "15. Create a class Product with attributes name, price, and quantity. Implement a method total_price() that\n",
        "calculates the total price of the product."
      ]
    },
    {
      "cell_type": "code",
      "execution_count": null,
      "metadata": {
        "colab": {
          "base_uri": "https://localhost:8080/"
        },
        "id": "9k6QxxJoU73y",
        "outputId": "c8c3799b-3408-4551-89f4-75eef5087a8a"
      },
      "outputs": [
        {
          "name": "stdout",
          "output_type": "stream",
          "text": [
            "1000000\n"
          ]
        }
      ],
      "source": [
        "class product:\n",
        "    def __init__(self, name, price, quantity):\n",
        "        self.name = name\n",
        "        self.price = price\n",
        "        self.quantity = quantity\n",
        "\n",
        "    def total_price(self):\n",
        "        return self.price * self.quantity\n",
        "\n",
        "product1 = product(\"laptop\", 500000, 2)\n",
        "print(product1.total_price())\n",
        "\n",
        "\n",
        "\n"
      ]
    },
    {
      "cell_type": "markdown",
      "metadata": {
        "id": "w-ysJW6DXjJU"
      },
      "source": [
        "16. Create a class Animal with an abstract method sound(). Create two derived classes Cow and Sheep that\n",
        "implement the sound() method."
      ]
    },
    {
      "cell_type": "code",
      "source": [
        "from abc import ABC, abstractmethod\n",
        "\n",
        "# Abstract class Animal\n",
        "class Animal(ABC):\n",
        "    @abstractmethod\n",
        "    def sound(self):\n",
        "        pass\n",
        "\n",
        "# Derived class Cow\n",
        "class Cow(Animal):\n",
        "    def sound(self):\n",
        "        return \"Moo\"\n",
        "\n",
        "# Derived class Sheep\n",
        "class Sheep(Animal):\n",
        "    def sound(self):\n",
        "        return \"Baa\"\n",
        "\n",
        "# Example usage\n",
        "cow = Cow()\n",
        "sheep = Sheep()\n",
        "\n",
        "print(\"Cow sound:\", cow.sound())    # Output: Cow sound: Moo\n",
        "print(\"Sheep sound:\", sheep.sound()) # Output: Sheep sound: Baa\n"
      ],
      "metadata": {
        "colab": {
          "base_uri": "https://localhost:8080/"
        },
        "id": "gg8r9gUNfKXw",
        "outputId": "7369fbd2-fb00-4229-966e-5a04c114ab28"
      },
      "execution_count": 3,
      "outputs": [
        {
          "output_type": "stream",
          "name": "stdout",
          "text": [
            "Cow sound: Moo\n",
            "Sheep sound: Baa\n"
          ]
        }
      ]
    },
    {
      "cell_type": "markdown",
      "metadata": {
        "id": "pwGQvbCYZxg8"
      },
      "source": [
        "17. Create a class Book with attributes title, author, and year_published. Add a method get_book_info() that\n",
        "returns a formatted string with the book's details."
      ]
    },
    {
      "cell_type": "code",
      "source": [
        "class Book:\n",
        "    def __init__(self, title, author, year_published):\n",
        "        self.title = title  # Title of the book\n",
        "        self.author = author  # Author of the book\n",
        "        self.year_published = year_published  # Year the book was published\n",
        "\n",
        "    def get_book_info(self):\n",
        "        # Return a formatted string with book details\n",
        "        return f\"Title: {self.title}\\nAuthor: {self.author}\\nYear Published: {self.year_published}\"\n",
        "\n",
        "# Example usage\n",
        "book1 = Book(\"1984\", \"George Orwell\", 1949)\n",
        "book2 = Book(\"To Kill a Mockingbird\", \"Harper Lee\", 1960)\n",
        "\n",
        "print(book1.get_book_info())\n",
        "print(book2.get_book_info())\n"
      ],
      "metadata": {
        "colab": {
          "base_uri": "https://localhost:8080/"
        },
        "id": "Qt4QOwTKfV1H",
        "outputId": "90031416-1993-4eaf-a1ea-9cf6fe59840b"
      },
      "execution_count": 4,
      "outputs": [
        {
          "output_type": "stream",
          "name": "stdout",
          "text": [
            "Title: 1984\n",
            "Author: George Orwell\n",
            "Year Published: 1949\n",
            "Title: To Kill a Mockingbird\n",
            "Author: Harper Lee\n",
            "Year Published: 1960\n"
          ]
        }
      ]
    },
    {
      "cell_type": "markdown",
      "metadata": {
        "id": "8BI22UaYcHoK"
      },
      "source": [
        "18. Create a class House with attributes address and price. Create a derived class Mansion that adds an\n",
        "attribute number_of_rooms.\n"
      ]
    },
    {
      "cell_type": "code",
      "source": [
        "class House:\n",
        "    def __init__(self, address, price):\n",
        "        self.address = address\n",
        "        self.price = price\n",
        "\n",
        "    def display_info(self):\n",
        "        return f\"Address: {self.address}, Price: ${self.price}\"\n",
        "\n",
        "class Mansion(House):\n",
        "    def __init__(self, address, price, number_of_rooms):\n",
        "        super().__init__(address, price)\n",
        "        self.number_of_rooms = number_of_rooms\n",
        "\n",
        "    def display_info(self):\n",
        "        return f\"Address: {self.address}, Price: ${self.price}, Rooms: {self.number_of_rooms}\"\n",
        "\n",
        "# Example usage:\n",
        "house = House(\"123 Main St\", 250000)\n",
        "mansion = Mansion(\"456 Luxury Ln\", 5000000, 10)\n",
        "\n",
        "print(house.display_info())\n",
        "print(mansion.display_info())\n"
      ],
      "metadata": {
        "colab": {
          "base_uri": "https://localhost:8080/"
        },
        "id": "c_SZt5jvft02",
        "outputId": "297d3719-6276-42cc-e622-c504c646906b"
      },
      "execution_count": 5,
      "outputs": [
        {
          "output_type": "stream",
          "name": "stdout",
          "text": [
            "Address: 123 Main St, Price: $250000\n",
            "Address: 456 Luxury Ln, Price: $5000000, Rooms: 10\n"
          ]
        }
      ]
    }
  ],
  "metadata": {
    "colab": {
      "provenance": []
    },
    "kernelspec": {
      "display_name": "Python 3",
      "name": "python3"
    },
    "language_info": {
      "name": "python"
    }
  },
  "nbformat": 4,
  "nbformat_minor": 0
}